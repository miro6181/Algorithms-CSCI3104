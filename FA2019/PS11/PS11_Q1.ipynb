{
 "cells": [
  {
   "cell_type": "code",
   "execution_count": 32,
   "metadata": {},
   "outputs": [
    {
     "data": {
      "image/png": "[encoded data removed]",
      "text/plain": [
       "<Figure size 432x288 with 1 Axes>"
      ]
     },
     "metadata": {
      "needs_background": "light"
     },
     "output_type": "display_data"
    }
   ],
   "source": [
    "import matplotlib.pyplot as plt\n",
    "import random as rd\n",
    "\n",
    "def h1_hash_index(name, location):\n",
    "    hash = 0\n",
    "    for char in name:\n",
    "        #Hashing each character to it's appropriate location in the distribution.\n",
    "        hash += ord(char) - 65 + 1\n",
    "        hash = hash % location\n",
    "    return hash\n",
    "\n",
    "def h2_hash_index(name, location):\n",
    "    hash = 0\n",
    "#     for char in name:\n",
    "#         hash += \n",
    "\n",
    "l = 5987\n",
    "\n",
    "name_hash = {x:0 for x in range(0, l)}\n",
    "\n",
    "name_list = []\n",
    "with open(\"dist.all.last.txt\") as file:\n",
    "    for line in file:\n",
    "        name = line.split()[0]\n",
    "        name_list.append(name)\n",
    "\n",
    "rand_indicies = rd.sample(range(len(name_list)), len(name_list) // 2)\n",
    "name_list = [name_list[i] for i in indicies]\n",
    "\n",
    "for name in name_list:\n",
    "    hash_value = h1_hash_index(name, l)\n",
    "    name_hash[hash_value] += 1\n",
    "\n",
    "hash_lst = []\n",
    "\n",
    "for key in sorted(name_hash.keys()):\n",
    "    hash_lst.append(name_hash[key])\n",
    "\n",
    "b = range(0,l)\n",
    "plt.bar(b, hash_lst)\n",
    "plt.title(\"Last Name Distribution\")\n",
    "plt.xlabel(\"Distribution\")\n",
    "plt.ylabel(\"Number of Names in Hash Location\")\n",
    "plt.show()\n"
   ]
  },
  {
   "cell_type": "code",
   "execution_count": 14,
   "metadata": {},
   "outputs": [
    {
     "name": "stdout",
     "output_type": "stream",
     "text": [
      "{0: 228, 1: 202, 2: 230, 3: 222, 4: 202, 5: 215, 6: 200, 7: 180, 8: 194, 9: 157, 10: 184, 11: 184, 12: 164, 13: 172, 14: 160, 15: 153, 16: 136, 17: 144, 18: 177, 19: 130, 20: 136, 21: 116, 22: 162, 23: 138, 24: 165, 25: 137, 26: 157, 27: 146, 28: 170, 29: 159, 30: 165, 31: 199, 32: 194, 33: 224, 34: 184, 35: 197, 36: 180, 37: 232, 38: 223, 39: 251, 40: 266, 41: 253, 42: 243, 43: 264, 44: 277, 45: 296, 46: 275, 47: 294, 48: 310, 49: 302, 50: 263, 51: 333, 52: 301, 53: 299, 54: 295, 55: 302, 56: 258, 57: 314, 58: 289, 59: 277, 60: 264, 61: 260, 62: 288, 63: 263, 64: 292, 65: 280, 66: 254, 67: 266, 68: 246, 69: 237, 70: 185, 71: 220, 72: 194, 73: 199, 74: 201, 75: 180, 76: 173, 77: 181, 78: 189, 79: 179, 80: 133, 81: 182, 82: 167, 83: 163, 84: 148, 85: 186, 86: 168, 87: 154, 88: 170, 89: 150, 90: 181, 91: 159, 92: 168, 93: 156, 94: 168, 95: 140, 96: 159, 97: 175, 98: 189, 99: 176, 100: 184, 101: 187, 102: 227, 103: 208, 104: 219, 105: 208, 106: 215, 107: 227, 108: 241, 109: 250, 110: 240, 111: 255, 112: 257, 113: 277, 114: 257, 115: 240, 116: 255, 117: 287, 118: 269, 119: 259, 120: 301, 121: 294, 122: 267, 123: 268, 124: 279, 125: 259, 126: 291, 127: 327, 128: 286, 129: 266, 130: 288, 131: 270, 132: 251, 133: 256, 134: 280, 135: 219, 136: 236, 137: 272, 138: 224, 139: 239, 140: 236, 141: 200, 142: 205, 143: 175, 144: 201, 145: 190, 146: 181, 147: 184, 148: 166, 149: 167, 150: 172, 151: 188, 152: 153, 153: 176, 154: 158, 155: 159, 156: 160, 157: 158, 158: 177, 159: 182, 160: 181, 161: 182, 162: 183, 163: 170, 164: 209, 165: 211, 166: 236, 167: 225, 168: 226, 169: 219, 170: 252, 171: 230, 172: 236, 173: 276, 174: 291, 175: 260, 176: 276, 177: 278, 178: 252, 179: 275, 180: 271, 181: 286, 182: 271, 183: 298, 184: 297, 185: 283, 186: 269, 187: 269, 188: 316, 189: 249, 190: 255, 191: 286, 192: 287, 193: 228, 194: 243, 195: 239, 196: 242, 197: 236, 198: 241, 199: 219}\n",
      "[228, 202, 230, 222, 202, 215, 200, 180, 194, 157, 184, 184, 164, 172, 160, 153, 136, 144, 177, 130, 136, 116, 162, 138, 165, 137, 157, 146, 170, 159, 165, 199, 194, 224, 184, 197, 180, 232, 223, 251, 266, 253, 243, 264, 277, 296, 275, 294, 310, 302, 263, 333, 301, 299, 295, 302, 258, 314, 289, 277, 264, 260, 288, 263, 292, 280, 254, 266, 246, 237, 185, 220, 194, 199, 201, 180, 173, 181, 189, 179, 133, 182, 167, 163, 148, 186, 168, 154, 170, 150, 181, 159, 168, 156, 168, 140, 159, 175, 189, 176, 184, 187, 227, 208, 219, 208, 215, 227, 241, 250, 240, 255, 257, 277, 257, 240, 255, 287, 269, 259, 301, 294, 267, 268, 279, 259, 291, 327, 286, 266, 288, 270, 251, 256, 280, 219, 236, 272, 224, 239, 236, 200, 205, 175, 201, 190, 181, 184, 166, 167, 172, 188, 153, 176, 158, 159, 160, 158, 177, 182, 181, 182, 183, 170, 209, 211, 236, 225, 226, 219, 252, 230, 236, 276, 291, 260, 276, 278, 252, 275, 271, 286, 271, 298, 297, 283, 269, 269, 316, 249, 255, 286, 287, 228, 243, 239, 242, 236, 241, 219]\n"
     ]
    },
    {
     "data": {
      "image/png": "[encoded data removed]",
      "text/plain": [
       "<Figure size 432x288 with 1 Axes>"
      ]
     },
     "metadata": {
      "needs_background": "light"
     },
     "output_type": "display_data"
    }
   ],
   "source": [
    "import matplotlib.pyplot as plt\n",
    "import numpy as np\n",
    "import random\n",
    "\n",
    "def get_hash_index(last_name, bucket):\n",
    "    hash = 0\n",
    "    for c in last_name:\n",
    "        hash += ord(c) #- ord('A') + 1\n",
    "        hash = hash % bucket\n",
    "    return hash\n",
    "\n",
    "last_name_hash = {}\n",
    "\n",
    "bucket_size = 200\n",
    "\n",
    "for i in range(0, bucket_size):\n",
    "    last_name_hash[i] = 0\n",
    "\n",
    "names_list = []\n",
    "with open(\"dist.all.last.txt\") as fp:\n",
    "    for line in fp:\n",
    "        last_name = line.split()[0]\n",
    "        names_list.append(last_name)\n",
    "\n",
    "indicies = random.sample(range(len(names_list)), len(names_list) // 2)\n",
    "last_names_list = [names_list[i] for i in indicies]\n",
    "\n",
    "for name in last_names_list:\n",
    "    hash_value = get_hash_index(name,bucket_size)\n",
    "    last_name_hash[hash_value] += 1\n",
    "\n",
    "print(last_name_hash)\n",
    "\n",
    "hash_as_list = []\n",
    "\n",
    "for key in sorted(last_name_hash.keys()):\n",
    "    hash_as_list.append(last_name_hash[key])\n",
    "\n",
    "print(hash_as_list)\n",
    "\n",
    "b = range(0,bucket_size)\n",
    "plt.bar(b, hash_as_list)\n",
    "#plt.hist(hash_as_list, bins=b)\n",
    "plt.title(\"Histogram showing distribution of hash of last names\")\n",
    "plt.xlabel(\"Bucket number\")\n",
    "plt.ylabel(\"Size of bucket\")\n",
    "plt.show()"
   ]
  },
  {
   "cell_type": "code",
   "execution_count": null,
   "metadata": {},
   "outputs": [],
   "source": []
  }
 ],
 "metadata": {
  "kernelspec": {
   "display_name": "Python 3",
   "language": "python",
   "name": "python3"
  },
  "language_info": {
   "codemirror_mode": {
    "name": "ipython",
    "version": 3
   },
   "file_extension": ".py",
   "mimetype": "text/x-python",
   "name": "python",
   "nbconvert_exporter": "python",
   "pygments_lexer": "ipython3",
   "version": "3.7.4"
  }
 },
 "nbformat": 4,
 "nbformat_minor": 2
}
